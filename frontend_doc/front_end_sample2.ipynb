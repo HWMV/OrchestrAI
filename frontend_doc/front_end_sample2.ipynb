{
  "nbformat": 4,
  "nbformat_minor": 0,
  "metadata": {
    "colab": {
      "provenance": [],
      "authorship_tag": "ABX9TyMlMMk9rvJy9G+EjdUpqyJq",
      "include_colab_link": true
    },
    "kernelspec": {
      "name": "python3",
      "display_name": "Python 3"
    },
    "language_info": {
      "name": "python"
    }
  },
  "cells": [
    {
      "cell_type": "markdown",
      "metadata": {
        "id": "view-in-github",
        "colab_type": "text"
      },
      "source": [
        "<a href=\"https://colab.research.google.com/github/HWMV/OrchestrAI/blob/main/frontend_doc/front_end_sample2.ipynb\" target=\"_parent\"><img src=\"https://colab.research.google.com/assets/colab-badge.svg\" alt=\"Open In Colab\"/></a>"
      ]
    },
    {
      "cell_type": "markdown",
      "source": [
        "**Code Structure ASCII**\n",
        "\n",
        "orchestrai/\n",
        "│\n",
        "├── lib/\n",
        "│   ├── main.dart\n",
        "│   │\n",
        "│   ├── screens/\n",
        "│   │   └── crew_screen.dart\n",
        "│   │\n",
        "│   ├── widgets/\n",
        "│   │   ├── component_sidebar.dart\n",
        "│   │   ├── crew_canvas.dart\n",
        "│   │   └── parameter_sidebar.dart\n",
        "│   │\n",
        "│   ├── models/\n",
        "│   │   └── crew_model.dart\n",
        "│   │\n",
        "│   └── services/\n",
        "│       └── api_service.dart\n",
        "│\n",
        "├── pubspec.yaml\n",
        "│\n",
        "└── test/\n",
        "    └── widget_test.dart"
      ],
      "metadata": {
        "id": "Mge0phOWi7jM"
      }
    },
    {
      "cell_type": "markdown",
      "source": [
        "## main.dart : 진입점, 전체 테마"
      ],
      "metadata": {
        "id": "Wm31tyjVi_a2"
      }
    },
    {
      "cell_type": "code",
      "source": [
        "import 'package:flutter/material.dart';\n",
        "import 'screens/crew_screen.dart';\n",
        "\n",
        "void main() {\n",
        "  runApp(OrchestrAIApp());\n",
        "}\n",
        "\n",
        "class OrchestrAIApp extends StatelessWidget {\n",
        "  @override\n",
        "  Widget build(BuildContext context) {\n",
        "    return MaterialApp(\n",
        "      title: 'OrchestrAI',\n",
        "      theme: ThemeData(\n",
        "        primarySwatch: Colors.blue,\n",
        "        visualDensity: VisualDensity.adaptivePlatformDensity,\n",
        "      ),\n",
        "      home: CrewScreen(),\n",
        "    );\n",
        "  }\n",
        "}"
      ],
      "metadata": {
        "id": "s6wU1qNRi7zP"
      },
      "execution_count": null,
      "outputs": []
    },
    {
      "cell_type": "markdown",
      "source": [
        "## screens/crew_screen.dart :\n",
        "메인 화면, 3개의 주요 부분 (좌측 사이드바/중앙 캔버스/우측 사이드바)\n",
        "\n",
        "## 왼쪽 사이드 바 (컴포넌트 목록, 서랍형태,, 펼쳐보기 기능으로 사이드 바 추가)\n",
        "\n",
        "## 화면 추가 main screen > agent 생성 화면 (task, tool) : 우측 사이드바 (파라미터 입력)"
      ],
      "metadata": {
        "id": "IubbR62Di755"
      }
    },
    {
      "cell_type": "code",
      "source": [
        "import 'package:flutter/material.dart';\n",
        "import 'package:provider/provider.dart';\n",
        "import '../models/crew_model.dart';\n",
        "import '../widgets/crew_table.dart';\n",
        "import '../widgets/component_sidebar.dart';\n",
        "import 'agent_screen.dart';\n",
        "\n",
        "class CrewScreen extends StatelessWidget {\n",
        "  @override\n",
        "  Widget build(BuildContext context) {\n",
        "    return Scaffold(\n",
        "      appBar: AppBar(title: Text('OrchestrAI')),\n",
        "      body: Row(\n",
        "        children: [\n",
        "          Expanded(\n",
        "            flex: 1,\n",
        "            child: ComponentSidebar(isDraggable: true),\n",
        "          ),\n",
        "          Expanded(\n",
        "            flex: 4,\n",
        "            child: Consumer<CrewModel>(\n",
        "              builder: (context, crewModel, child) {\n",
        "                return Column(\n",
        "                  children: [\n",
        "                    TextField(\n",
        "                      decoration: InputDecoration(labelText: 'Crew Name'),\n",
        "                      onChanged: (value) => crewModel.setCrewName(value),\n",
        "                    ),\n",
        "                    Expanded(\n",
        "                      child: CrewTable(\n",
        "                        onAgentTap: (int index) {\n",
        "                          Navigator.push(\n",
        "                            context,\n",
        "                            MaterialPageRoute(\n",
        "                              builder: (context) => AgentScreen(agentIndex: index),\n",
        "                            ),\n",
        "                          );\n",
        "                        },\n",
        "                      ),\n",
        "                    ),\n",
        "                  ],\n",
        "                );\n",
        "              },\n",
        "            ),\n",
        "          ),\n",
        "        ],\n",
        "      ),\n",
        "    );\n",
        "  }\n",
        "}"
      ],
      "metadata": {
        "id": "aeSqv7Oni8AY"
      },
      "execution_count": null,
      "outputs": []
    },
    {
      "cell_type": "markdown",
      "source": [
        "## screens/agent_screen.dart\n",
        "\n",
        ": Agent 조립 화면"
      ],
      "metadata": {
        "id": "2GeFBoNn9SCS"
      }
    },
    {
      "cell_type": "code",
      "source": [
        "import 'package:flutter/material.dart';\n",
        "import 'package:provider/provider.dart';\n",
        "import '../models/crew_model.dart';\n",
        "import '../widgets/component_sidebar.dart';\n",
        "import '../widgets/lego_agent_builder.dart';\n",
        "import '../widgets/parameter_sidebar.dart';\n",
        "\n",
        "class AgentScreen extends StatelessWidget {\n",
        "  final int agentIndex;\n",
        "\n",
        "  AgentScreen({required this.agentIndex});\n",
        "\n",
        "  @override\n",
        "  Widget build(BuildContext context) {\n",
        "    return Scaffold(\n",
        "      appBar: AppBar(title: Text('Build Agent ${agentIndex + 1}')),\n",
        "      body: Row(\n",
        "        children: [\n",
        "          Expanded(\n",
        "            flex: 1,\n",
        "            child: ComponentSidebar(isDraggable: true),\n",
        "          ),\n",
        "          Expanded(\n",
        "            flex: 3,\n",
        "            child: LegoAgentBuilder(agentIndex: agentIndex),\n",
        "          ),\n",
        "          Expanded(\n",
        "            flex: 1,\n",
        "            child: ParameterSidebar(agentIndex: agentIndex),\n",
        "          ),\n",
        "        ],\n",
        "      ),\n",
        "    );\n",
        "  }\n",
        "}"
      ],
      "metadata": {
        "id": "n9n4xDfl9SL_"
      },
      "execution_count": null,
      "outputs": []
    },
    {
      "cell_type": "markdown",
      "source": [
        "## widgets/component_sidebar.dart\n",
        "\n",
        "## : 좌측 컴포넌트 사이드 바 (펼쳐보기 기능 추가), 2개의 screen에 추가\n",
        "\n",
        "## 수정 : main screen에서 의자 위젯(버트) Agent add 기능 추가"
      ],
      "metadata": {
        "id": "qEh_H2Lji8GE"
      }
    },
    {
      "cell_type": "code",
      "source": [
        "import 'package:flutter/material.dart';\n",
        "import 'package:provider/provider.dart';\n",
        "import '../models/crew_model.dart';\n",
        "\n",
        "class ComponentSidebar extends StatelessWidget {\n",
        "  @override\n",
        "  Widget build(BuildContext context) {\n",
        "    return Consumer<CrewModel>(\n",
        "      builder: (context, crewModel, child) {\n",
        "        return Container(\n",
        "          color: Colors.grey[200],\n",
        "          child: ListView(\n",
        "            children: [\n",
        "              ListTile(\n",
        "                title: Text('Agents (${crewModel.agents.length})'),\n",
        "                trailing: Icon(Icons.add),\n",
        "                onTap: () => _showAgentDialog(context, crewModel),\n",
        "              ),\n",
        "              ListTile(\n",
        "                title: Text('Tasks (${crewModel.tasks.length})'),\n",
        "                trailing: Icon(Icons.add),\n",
        "                onTap: () => _showTaskDialog(context, crewModel),\n",
        "              ),\n",
        "              ListTile(\n",
        "                title: Text('Tools'),\n",
        "                trailing: Icon(Icons.add),\n",
        "                onTap: () => _showToolDialog(context, crewModel),\n",
        "              ),\n",
        "            ],\n",
        "          ),\n",
        "        );\n",
        "      },\n",
        "    );\n",
        "  }\n",
        "\n",
        "  void _showAgentDialog(BuildContext context, CrewModel crewModel) {\n",
        "    showDialog(\n",
        "      context: context,\n",
        "      builder: (BuildContext context) {\n",
        "        String agentName = '';\n",
        "        return AlertDialog(\n",
        "          title: Text('Add New Agent'),\n",
        "          content: TextField(\n",
        "            decoration: InputDecoration(hintText: \"Enter agent name\"),\n",
        "            onChanged: (value) => agentName = value,\n",
        "          ),\n",
        "          actions: [\n",
        "            TextButton(\n",
        "              child: Text('Cancel'),\n",
        "              onPressed: () => Navigator.of(context).pop(),\n",
        "            ),\n",
        "            TextButton(\n",
        "              child: Text('Add'),\n",
        "              onPressed: () {\n",
        "                if (agentName.isNotEmpty) {\n",
        "                  crewModel.addAgent(AgentModel(\n",
        "                    role: agentName,\n",
        "                    goal: '',\n",
        "                    backstory: '',\n",
        "                    tools: [],\n",
        "                  ));\n",
        "                  Navigator.of(context).pop();\n",
        "                }\n",
        "              },\n",
        "            ),\n",
        "          ],\n",
        "        );\n",
        "      },\n",
        "    );\n",
        "  }\n",
        "\n",
        "  void _showTaskDialog(BuildContext context, CrewModel crewModel) {\n",
        "    // Similar implementation to _showAgentDialog\n",
        "    // but for adding a new task\n",
        "  }\n",
        "\n",
        "  void _showToolDialog(BuildContext context, CrewModel crewModel) {\n",
        "    // Similar implementation to _showAgentDialog\n",
        "    // but for adding a new tool\n",
        "  }\n",
        "}"
      ],
      "metadata": {
        "id": "ljuIfL7vi8MX"
      },
      "execution_count": null,
      "outputs": []
    },
    {
      "cell_type": "markdown",
      "source": [
        "## widgents/crew_table.dart"
      ],
      "metadata": {
        "id": "SyQJBIuL-DJq"
      }
    },
    {
      "cell_type": "code",
      "source": [
        "import 'package:flutter/material.dart';\n",
        "\n",
        "class CrewTable extends StatelessWidget {\n",
        "  final Function(int) onAgentTap;\n",
        "\n",
        "  CrewTable({required this.onAgentTap});\n",
        "\n",
        "  @override\n",
        "  Widget build(BuildContext context) {\n",
        "    return GridView.builder(\n",
        "      gridDelegate: SliverGridDelegateWithFixedCrossAxisCount(\n",
        "        crossAxisCount: 2,\n",
        "        childAspectRatio: 1.5,\n",
        "      ),\n",
        "      itemCount: 4,\n",
        "      itemBuilder: (context, index) {\n",
        "        return GestureDetector(\n",
        "          onTap: () => onAgentTap(index),\n",
        "          child: Card(\n",
        "            child: Center(\n",
        "              child: Text('Agent ${index + 1}'),\n",
        "            ),\n",
        "          ),\n",
        "        );\n",
        "      },\n",
        "    );\n",
        "  }\n",
        "}"
      ],
      "metadata": {
        "id": "yqSpolEG-DRw"
      },
      "execution_count": null,
      "outputs": []
    },
    {
      "cell_type": "markdown",
      "source": [
        "## widgents/lego_agent_builder.dart"
      ],
      "metadata": {
        "id": "l7NEVGkI-MmS"
      }
    },
    {
      "cell_type": "code",
      "source": [
        "import 'package:flutter/material.dart';\n",
        "import 'package:provider/provider.dart';\n",
        "import '../models/crew_model.dart';\n",
        "\n",
        "class LegoAgentBuilder extends StatelessWidget {\n",
        "  final int agentIndex;\n",
        "\n",
        "  LegoAgentBuilder({required this.agentIndex});\n",
        "\n",
        "  @override\n",
        "  Widget build(BuildContext context) {\n",
        "    return Consumer<CrewModel>(\n",
        "      builder: (context, crewModel, child) {\n",
        "        final agent = crewModel.agents[agentIndex];\n",
        "        return Column(\n",
        "          children: [\n",
        "            LegoPartSelector(\n",
        "              label: 'Head (Agent)',\n",
        "              onSelected: (value) {\n",
        "                agent.name = value;\n",
        "                crewModel.updateAgent(agentIndex, agent);\n",
        "              },\n",
        "            ),\n",
        "            LegoPartSelector(\n",
        "              label: 'Body (Task)',\n",
        "              onSelected: (value) {\n",
        "                agent.task = value;\n",
        "                crewModel.updateAgent(agentIndex, agent);\n",
        "              },\n",
        "            ),\n",
        "            // Add LegoPartSelector for tools (hands, feet)\n",
        "          ],\n",
        "        );\n",
        "      },\n",
        "    );\n",
        "  }\n",
        "}\n",
        "\n",
        "class LegoPartSelector extends StatelessWidget {\n",
        "  final String label;\n",
        "  final Function(String) onSelected;\n",
        "\n",
        "  LegoPartSelector({required this.label, required this.onSelected});\n",
        "\n",
        "  @override\n",
        "  Widget build(BuildContext context) {\n",
        "    return Column(\n",
        "      children: [\n",
        "        Text(label),\n",
        "        ElevatedButton(\n",
        "          onPressed: () {\n",
        "            // Show dialog to select Lego part\n",
        "            showDialog(\n",
        "              context: context,\n",
        "              builder: (context) => AlertDialog(\n",
        "                title: Text('Select $label'),\n",
        "                content: TextField(\n",
        "                  onSubmitted: (value) {\n",
        "                    onSelected(value);\n",
        "                    Navigator.pop(context);\n",
        "                  },\n",
        "                ),\n",
        "              ),\n",
        "            );\n",
        "          },\n",
        "          child: Text('Select'),\n",
        "        ),\n",
        "      ],\n",
        "    );\n",
        "  }\n",
        "}"
      ],
      "metadata": {
        "id": "TD0tEqfk-NEv"
      },
      "execution_count": null,
      "outputs": []
    },
    {
      "cell_type": "markdown",
      "source": [
        "## widgets/crew_canvas.dart\n",
        ": 중앙 캔버스\n",
        "\n",
        "## Agent 생성 화면의 중앙 화면 (component 세팅하는 화면)\n",
        "\n",
        "## Agent 생성 화면 좌측 화면은 Agent 조립 이미지 추가"
      ],
      "metadata": {
        "id": "xPW8wv1li8SF"
      }
    },
    {
      "cell_type": "code",
      "source": [
        "import 'package:flutter/material.dart';\n",
        "import 'package:provider/provider.dart';\n",
        "import '../widgets/component_sidebar.dart';\n",
        "import '../widgets/crew_canvas.dart';\n",
        "import '../widgets/parameter_sidebar.dart';\n",
        "import '../models/crew_model.dart';\n",
        "import '../services/api_service.dart';\n",
        "\n",
        "class CrewScreen extends StatelessWidget {\n",
        "  final ApiService apiService = ApiService();\n",
        "\n",
        "  @override\n",
        "  Widget build(BuildContext context) {\n",
        "    return ChangeNotifierProvider(\n",
        "      create: (_) => CrewModel(),\n",
        "      child: Scaffold(\n",
        "        appBar: AppBar(title: Text('OrchestrAI')),\n",
        "        body: Row(\n",
        "          children: [\n",
        "            Expanded(flex: 1, child: ComponentSidebar()),\n",
        "            Expanded(flex: 3, child: CrewCanvas()),\n",
        "            Expanded(flex: 1, child: ParameterSidebar()),\n",
        "          ],\n",
        "        ),\n",
        "        floatingActionButton: Consumer<CrewModel>(\n",
        "          builder: (context, crewModel, child) {\n",
        "            return FloatingActionButton(\n",
        "              onPressed: () async {\n",
        "                try {\n",
        "                  final result = await apiService.createWorkflow(crewModel.toJson());\n",
        "                  ScaffoldMessenger.of(context).showSnackBar(\n",
        "                    SnackBar(content: Text('Workflow created successfully')),\n",
        "                  );\n",
        "                } catch (e) {\n",
        "                  ScaffoldMessenger.of(context).showSnackBar(\n",
        "                    SnackBar(content: Text('Failed to create workflow: $e')),\n",
        "                  );\n",
        "                }\n",
        "              },\n",
        "              child: Icon(Icons.send),\n",
        "            );\n",
        "          },\n",
        "        ),\n",
        "      ),\n",
        "    );\n",
        "  }\n",
        "}"
      ],
      "metadata": {
        "id": "h5-uRFyki8YG"
      },
      "execution_count": null,
      "outputs": []
    },
    {
      "cell_type": "markdown",
      "source": [
        "## widgets/parameter_sidebar.dart\n",
        "\n",
        ": 우측 파라미터 사이드 바\n",
        "\n",
        "## Agent 생성 화면에서 우측 사이드 바로 변경"
      ],
      "metadata": {
        "id": "21s2Oa4pi8d5"
      }
    },
    {
      "cell_type": "code",
      "source": [
        "import 'package:flutter/material.dart';\n",
        "\n",
        "class ParameterSidebar extends StatelessWidget {\n",
        "  @override\n",
        "  Widget build(BuildContext context) {\n",
        "    return Container(\n",
        "      color: Colors.grey[200],\n",
        "      child: ListView(\n",
        "        children: [\n",
        "          TextField(\n",
        "            decoration: InputDecoration(\n",
        "              labelText: 'Agent Name',\n",
        "            ),\n",
        "          ),\n",
        "          TextField(\n",
        "            decoration: InputDecoration(\n",
        "              labelText: 'Task Description',\n",
        "            ),\n",
        "          ),\n",
        "          TextField(\n",
        "            decoration: InputDecoration(\n",
        "              labelText: 'Tool Name',\n",
        "            ),\n",
        "          ),\n",
        "        ],\n",
        "      ),\n",
        "    );\n",
        "  }\n",
        "}\n"
      ],
      "metadata": {
        "id": "jiZjFz7_i8jp"
      },
      "execution_count": null,
      "outputs": []
    },
    {
      "cell_type": "markdown",
      "source": [
        "## models/crew_model.dart\n",
        "\n",
        ": Crew, Agent, Task들의 상태를 관리하기 위한 모듈"
      ],
      "metadata": {
        "id": "fShjrYJFi8vX"
      }
    },
    {
      "cell_type": "code",
      "source": [
        "import 'package:flutter/foundation.dart';\n",
        "\n",
        "class CrewModel extends ChangeNotifier {\n",
        "  List<AgentModel> agents = [];\n",
        "  List<TaskModel> tasks = [];\n",
        "\n",
        "  void addAgent(AgentModel agent) {\n",
        "    agents.add(agent);\n",
        "    notifyListeners();\n",
        "  }\n",
        "\n",
        "  void addTask(TaskModel task) {\n",
        "    tasks.add(task);\n",
        "    notifyListeners();\n",
        "  }\n",
        "\n",
        "  Map<String, dynamic> toJson() {\n",
        "    return {\n",
        "      'agents': agents.map((agent) => agent.toJson()).toList(),\n",
        "      'tasks': tasks.map((task) => task.toJson()).toList(),\n",
        "    };\n",
        "  }\n",
        "}\n",
        "\n",
        "class AgentModel {\n",
        "  String role;\n",
        "  String goal;\n",
        "  String backstory;\n",
        "  List<String> tools;\n",
        "\n",
        "  AgentModel({required this.role, required this.goal, required this.backstory, required this.tools});\n",
        "\n",
        "  Map<String, dynamic> toJson() {\n",
        "    return {\n",
        "      'role': role,\n",
        "      'goal': goal,\n",
        "      'backstory': backstory,\n",
        "      'tools': tools,\n",
        "    };\n",
        "  }\n",
        "}\n",
        "\n",
        "class TaskModel {\n",
        "  String description;\n",
        "  String expectedOutput;\n",
        "  String agentName;\n",
        "\n",
        "  TaskModel({required this.description, required this.expectedOutput, required this.agentName});\n",
        "\n",
        "  Map<String, dynamic> toJson() {\n",
        "    return {\n",
        "      'description': description,\n",
        "      'expected_output': expectedOutput,\n",
        "      'agent_name': agentName,\n",
        "    };\n",
        "  }\n",
        "}"
      ],
      "metadata": {
        "id": "eQI30pSVi84o"
      },
      "execution_count": null,
      "outputs": []
    },
    {
      "cell_type": "markdown",
      "source": [
        "## service/api_service.dart\n",
        "\n",
        ": 백엔드 서버와의 호출을 연결하기 위한 모듈\n",
        "\n",
        "## 토요일 미팅 시 한솔님 백엔드 서버 URL로 연동"
      ],
      "metadata": {
        "id": "wtIo6Hwei8_o"
      }
    },
    {
      "cell_type": "code",
      "source": [
        "import 'package:http/http.dart' as http;\n",
        "import 'dart:convert';\n",
        "\n",
        "class ApiService {\n",
        "  final String baseUrl = 'https://your-backend-url.com/api';\n",
        "\n",
        "  Future<Map<String, dynamic>> createWorkflow(Map<String, dynamic> data) async {\n",
        "    final response = await http.post(\n",
        "      Uri.parse('$baseUrl/create-workflow'),\n",
        "      headers: {'Content-Type': 'application/json'},\n",
        "      body: json.encode(data),\n",
        "    );\n",
        "\n",
        "    if (response.statusCode == 200) {\n",
        "      return json.decode(response.body);\n",
        "    } else {\n",
        "      throw Exception('Failed to create workflow');\n",
        "    }\n",
        "  }\n",
        "}"
      ],
      "metadata": {
        "id": "QWI6NSbfi9F7"
      },
      "execution_count": null,
      "outputs": []
    }
  ]
}